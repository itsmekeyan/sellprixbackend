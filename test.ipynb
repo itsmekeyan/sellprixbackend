{
 "cells": [
  {
   "cell_type": "code",
   "execution_count": 1,
   "metadata": {},
   "outputs": [],
   "source": [
    "from fast_api.services.frappe.client import FrappeClient\n",
    "from fast_api.config import FRAPPE_URL, FRAPPE_USERNAME, FRAPPE_PASSWORD"
   ]
  },
  {
   "cell_type": "code",
   "execution_count": 2,
   "metadata": {},
   "outputs": [
    {
     "data": {
      "text/plain": [
       "{'message': 'Logged In',\n",
       " 'home_page': '/app/home',\n",
       " 'full_name': 'Administrator'}"
      ]
     },
     "execution_count": 2,
     "metadata": {},
     "output_type": "execute_result"
    }
   ],
   "source": [
    "import requests\n",
    "\n",
    "frappe_conn = FrappeClient(FRAPPE_URL)\n",
    "frappe_conn.login(FRAPPE_USERNAME, FRAPPE_PASSWORD)"
   ]
  },
  {
   "cell_type": "code",
   "execution_count": 6,
   "metadata": {},
   "outputs": [
    {
     "data": {
      "text/plain": [
       "{'name': '2342',\n",
       " 'owner': 'Administrator',\n",
       " 'creation': '2024-10-14 09:24:43.629193',\n",
       " 'modified': '2024-10-14 09:24:43.629193',\n",
       " 'modified_by': 'Administrator',\n",
       " 'docstatus': 0,\n",
       " 'idx': 0,\n",
       " 'naming_series': 'STO-ITEM-.YYYY.-',\n",
       " 'item_code': '2342',\n",
       " 'item_name': 'TestItem',\n",
       " 'item_group': 'Products',\n",
       " 'stock_uom': 'Nos',\n",
       " 'disabled': 0,\n",
       " 'allow_alternative_item': 0,\n",
       " 'is_stock_item': 1,\n",
       " 'has_variants': 0,\n",
       " 'opening_stock': 2.0,\n",
       " 'valuation_rate': 2.0,\n",
       " 'standard_rate': 2.0,\n",
       " 'is_fixed_asset': 0,\n",
       " 'auto_create_assets': 0,\n",
       " 'is_grouped_asset': 0,\n",
       " 'over_delivery_receipt_allowance': 0.0,\n",
       " 'over_billing_allowance': 0.0,\n",
       " 'description': 'TestItem',\n",
       " 'shelf_life_in_days': 0,\n",
       " 'end_of_life': '2025-02-02',\n",
       " 'default_material_request_type': 'Purchase',\n",
       " 'valuation_method': '',\n",
       " 'weight_per_unit': 0.0,\n",
       " 'allow_negative_stock': 0,\n",
       " 'has_batch_no': 0,\n",
       " 'create_new_batch': 0,\n",
       " 'has_expiry_date': 0,\n",
       " 'retain_sample': 0,\n",
       " 'sample_quantity': 0,\n",
       " 'has_serial_no': 0,\n",
       " 'variant_based_on': 'Item Attribute',\n",
       " 'enable_deferred_expense': 0,\n",
       " 'no_of_months_exp': 0,\n",
       " 'enable_deferred_revenue': 0,\n",
       " 'no_of_months': 0,\n",
       " 'min_order_qty': 0.0,\n",
       " 'safety_stock': 0.0,\n",
       " 'is_purchase_item': 1,\n",
       " 'lead_time_days': 0,\n",
       " 'last_purchase_rate': 0.0,\n",
       " 'is_customer_provided_item': 0,\n",
       " 'delivered_by_supplier': 0,\n",
       " 'country_of_origin': 'India',\n",
       " 'grant_commission': 1,\n",
       " 'is_sales_item': 1,\n",
       " 'max_discount': 0.0,\n",
       " 'inspection_required_before_purchase': 0,\n",
       " 'inspection_required_before_delivery': 0,\n",
       " 'include_item_in_manufacturing': 1,\n",
       " 'is_sub_contracted_item': 0,\n",
       " 'customer_code': '',\n",
       " 'total_projected_qty': 0.0,\n",
       " 'doctype': 'Item',\n",
       " 'customer_items': [],\n",
       " 'attributes': [],\n",
       " 'barcodes': [],\n",
       " 'reorder_levels': [],\n",
       " 'item_defaults': [{'name': 'rn14i4fl7k',\n",
       "   'owner': 'Administrator@gmail.com',\n",
       "   'creation': '2024-10-14 09:24:43.629193',\n",
       "   'modified': '2024-10-14 09:24:43.629193',\n",
       "   'modified_by': 'Administrator',\n",
       "   'docstatus': 0,\n",
       "   'idx': 1,\n",
       "   'company': 'TestB',\n",
       "   'default_warehouse': 'WareB - TB',\n",
       "   'parent': '2342',\n",
       "   'parentfield': 'item_defaults',\n",
       "   'parenttype': 'Item',\n",
       "   'doctype': 'Item Default'}],\n",
       " 'uoms': [{'name': 'rn16f87h37',\n",
       "   'owner': 'Administrator',\n",
       "   'creation': '2024-10-14 09:24:43.822122',\n",
       "   'modified': '2024-10-14 09:24:43.822122',\n",
       "   'modified_by': 'Administrator',\n",
       "   'docstatus': 0,\n",
       "   'idx': 1,\n",
       "   'uom': 'Nos',\n",
       "   'conversion_factor': 1.0,\n",
       "   'parent': '2342',\n",
       "   'parentfield': 'uoms',\n",
       "   'parenttype': 'Item',\n",
       "   'doctype': 'UOM Conversion Detail'}],\n",
       " 'supplier_items': [],\n",
       " 'taxes': []}"
      ]
     },
     "execution_count": 6,
     "metadata": {},
     "output_type": "execute_result"
    }
   ],
   "source": [
    "frappe_conn.get_doc(\"Item\", \"2342\", filters={\"item_defaults\": {\n",
    "                    \"default_warehouse\": \"Main Warehouse\"}})"
   ]
  },
  {
   "cell_type": "code",
   "execution_count": 3,
   "metadata": {},
   "outputs": [
    {
     "data": {
      "text/plain": [
       "[{'name': '2342',\n",
       "  'owner': 'Administrator',\n",
       "  'creation': '2024-10-14 09:24:43.629193',\n",
       "  'modified': '2024-10-14 09:24:43.629193',\n",
       "  'modified_by': 'Administrator',\n",
       "  'docstatus': 0,\n",
       "  'idx': 0,\n",
       "  'naming_series': 'STO-ITEM-.YYYY.-',\n",
       "  'item_code': '2342',\n",
       "  'item_name': 'TestItem',\n",
       "  'item_group': 'Products',\n",
       "  'stock_uom': 'Nos',\n",
       "  'disabled': 0,\n",
       "  'allow_alternative_item': 0,\n",
       "  'is_stock_item': 1,\n",
       "  'has_variants': 0,\n",
       "  'opening_stock': 2.0,\n",
       "  'valuation_rate': 2.0,\n",
       "  'standard_rate': 2.0,\n",
       "  'is_fixed_asset': 0,\n",
       "  'auto_create_assets': 0,\n",
       "  'is_grouped_asset': 0,\n",
       "  'asset_category': None,\n",
       "  'asset_naming_series': None,\n",
       "  'over_delivery_receipt_allowance': 0.0,\n",
       "  'over_billing_allowance': 0.0,\n",
       "  'image': None,\n",
       "  'description': 'TestItem',\n",
       "  'brand': None,\n",
       "  'shelf_life_in_days': 0,\n",
       "  'end_of_life': '2025-02-02',\n",
       "  'default_material_request_type': 'Purchase',\n",
       "  'valuation_method': '',\n",
       "  'warranty_period': None,\n",
       "  'weight_per_unit': 0.0,\n",
       "  'weight_uom': None,\n",
       "  'allow_negative_stock': 0,\n",
       "  'has_batch_no': 0,\n",
       "  'create_new_batch': 0,\n",
       "  'batch_number_series': None,\n",
       "  'has_expiry_date': 0,\n",
       "  'retain_sample': 0,\n",
       "  'sample_quantity': 0,\n",
       "  'has_serial_no': 0,\n",
       "  'serial_no_series': None,\n",
       "  'variant_of': None,\n",
       "  'variant_based_on': 'Item Attribute',\n",
       "  'enable_deferred_expense': 0,\n",
       "  'no_of_months_exp': 0,\n",
       "  'enable_deferred_revenue': 0,\n",
       "  'no_of_months': 0,\n",
       "  'purchase_uom': None,\n",
       "  'min_order_qty': 0.0,\n",
       "  'safety_stock': 0.0,\n",
       "  'is_purchase_item': 1,\n",
       "  'lead_time_days': 0,\n",
       "  'last_purchase_rate': 0.0,\n",
       "  'is_customer_provided_item': 0,\n",
       "  'customer': None,\n",
       "  'delivered_by_supplier': 0,\n",
       "  'country_of_origin': 'India',\n",
       "  'customs_tariff_number': None,\n",
       "  'sales_uom': None,\n",
       "  'grant_commission': 1,\n",
       "  'is_sales_item': 1,\n",
       "  'max_discount': 0.0,\n",
       "  'inspection_required_before_purchase': 0,\n",
       "  'quality_inspection_template': None,\n",
       "  'inspection_required_before_delivery': 0,\n",
       "  'include_item_in_manufacturing': 1,\n",
       "  'is_sub_contracted_item': 0,\n",
       "  'default_bom': None,\n",
       "  'customer_code': '',\n",
       "  'default_item_manufacturer': None,\n",
       "  'default_manufacturer_part_no': None,\n",
       "  'total_projected_qty': 0.0}]"
      ]
     },
     "execution_count": 3,
     "metadata": {},
     "output_type": "execute_result"
    }
   ],
   "source": [
    "frappe_conn.get_list(\"Item\")"
   ]
  }
 ],
 "metadata": {
  "kernelspec": {
   "display_name": "Python 3",
   "language": "python",
   "name": "python3"
  },
  "language_info": {
   "codemirror_mode": {
    "name": "ipython",
    "version": 3
   },
   "file_extension": ".py",
   "mimetype": "text/x-python",
   "name": "python",
   "nbconvert_exporter": "python",
   "pygments_lexer": "ipython3",
   "version": "3.11.0"
  }
 },
 "nbformat": 4,
 "nbformat_minor": 2
}
